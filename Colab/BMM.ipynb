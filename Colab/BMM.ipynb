{
  "nbformat": 4,
  "nbformat_minor": 0,
  "metadata": {
    "colab": {
      "name": "BMM.ipynb",
      "provenance": [],
      "collapsed_sections": []
    },
    "kernelspec": {
      "name": "python3",
      "display_name": "Python 3"
    },
    "language_info": {
      "name": "python"
    }
  },
  "cells": [
    {
      "cell_type": "markdown",
      "metadata": {
        "id": "5yjFOqJbEtAU"
      },
      "source": [
        "# **Create and Install - Requirments to compile/run codes**\n",
        "\n",
        "---\n",
        "\n",
        "\n",
        "\n",
        "---\n",
        "\n"
      ]
    },
    {
      "cell_type": "markdown",
      "metadata": {
        "id": "Mu3LaUgfCdvZ"
      },
      "source": [
        "### **Create Directory for Arrays**"
      ]
    },
    {
      "cell_type": "code",
      "metadata": {
        "id": "r3jZsQm1CnN3"
      },
      "source": [
        "!mkdir Arrays "
      ],
      "execution_count": null,
      "outputs": []
    },
    {
      "cell_type": "markdown",
      "metadata": {
        "id": "2ffS-QlOCrAL"
      },
      "source": [
        "### **Install Matlab**"
      ]
    },
    {
      "cell_type": "code",
      "metadata": {
        "id": "FU82XIhGDbLg"
      },
      "source": [
        "!apt install octave"
      ],
      "execution_count": null,
      "outputs": []
    },
    {
      "cell_type": "markdown",
      "metadata": {
        "id": "WBVUSYWODcs5"
      },
      "source": [
        "### **Install C/C++ Compiler**"
      ]
    },
    {
      "cell_type": "code",
      "metadata": {
        "id": "PwBkbJw1DlAd"
      },
      "source": [
        "!apt install gcc-5 g++-5 -y"
      ],
      "execution_count": null,
      "outputs": []
    },
    {
      "cell_type": "markdown",
      "metadata": {
        "id": "Q_d3cfqmDl56"
      },
      "source": [
        "### **Install MPI**"
      ]
    },
    {
      "cell_type": "code",
      "metadata": {
        "id": "z73dWQ3VDp5W"
      },
      "source": [
        "!pip install mpi4py"
      ],
      "execution_count": null,
      "outputs": []
    },
    {
      "cell_type": "markdown",
      "metadata": {
        "id": "7zjufk_DENlz"
      },
      "source": [
        "### **Install OpenMP**"
      ]
    },
    {
      "cell_type": "code",
      "metadata": {
        "id": "CDUFUaPUEQCS"
      },
      "source": [
        "!apt list --installed"
      ],
      "execution_count": null,
      "outputs": []
    },
    {
      "cell_type": "markdown",
      "metadata": {
        "id": "LLd1F4N3EaS0"
      },
      "source": [
        "\n",
        "\n",
        "\n",
        "---\n",
        "\n",
        "\n",
        "---\n",
        "\n",
        "\n",
        "\n",
        "\n",
        "\n",
        "\n",
        "# **Compile and Run Codes**\n",
        "\n",
        "---\n",
        "\n",
        "\n",
        "\n",
        "---\n",
        "\n"
      ]
    },
    {
      "cell_type": "markdown",
      "metadata": {
        "id": "NoRioFOvFx6c"
      },
      "source": [
        "### **Generate Arrays From Matlab**"
      ]
    },
    {
      "cell_type": "code",
      "metadata": {
        "id": "8uVw1TvpFyuF"
      },
      "source": [
        "!octave -W Generator.m"
      ],
      "execution_count": null,
      "outputs": []
    },
    {
      "cell_type": "markdown",
      "metadata": {
        "id": "eWqRRi_UF_Sa"
      },
      "source": [
        "### **Compile / Run: C++**"
      ]
    },
    {
      "cell_type": "markdown",
      "metadata": {
        "id": "9dg0w2A1OTlu"
      },
      "source": [
        "Boolean Matrix Multiplication v.0 (Non Filter - Non Block)\n",
        "\n"
      ]
    },
    {
      "cell_type": "code",
      "metadata": {
        "id": "O1nBdoHUF-fg"
      },
      "source": [
        "%%shell\n",
        "\n",
        "g++ BMM_v0.cpp -o output1\n",
        "./output1"
      ],
      "execution_count": null,
      "outputs": []
    },
    {
      "cell_type": "markdown",
      "metadata": {
        "id": "iZrwayuAOd3N"
      },
      "source": [
        "Boolean Matrix Multiplication v.1 (Filter - Non Block)"
      ]
    },
    {
      "cell_type": "code",
      "metadata": {
        "id": "2cw1FtPxOMuO"
      },
      "source": [
        "%%shell\n",
        "\n",
        "g++ BMM_v1.cpp -o output2\n",
        "./output2"
      ],
      "execution_count": null,
      "outputs": []
    },
    {
      "cell_type": "markdown",
      "metadata": {
        "id": "I1Wx4sidcfwa"
      },
      "source": [
        "Boolean Matrix Multiplication v.0 (Non Filter - Block)"
      ]
    },
    {
      "cell_type": "code",
      "metadata": {
        "id": "szF4g-ygcmC6"
      },
      "source": [
        "%%shell\n",
        "\n",
        "g++ bBMM_v0.cpp -o output3\n",
        "./output3"
      ],
      "execution_count": null,
      "outputs": []
    },
    {
      "cell_type": "markdown",
      "metadata": {
        "id": "YM0weYDOckHv"
      },
      "source": [
        "Boolean Matrix Multiplication v.1 (Filter - Block)"
      ]
    },
    {
      "cell_type": "code",
      "metadata": {
        "id": "me_DIdyvcmV7"
      },
      "source": [
        "%%shell\n",
        "\n",
        "g++ bBMM_v1.cpp -o output4\n",
        "./output4"
      ],
      "execution_count": null,
      "outputs": []
    },
    {
      "cell_type": "markdown",
      "metadata": {
        "id": "EP-F7A3YGUMU"
      },
      "source": [
        "### **Compile / Run: OMP - C++**"
      ]
    },
    {
      "cell_type": "markdown",
      "metadata": {
        "id": "8r0PD0F3O07Q"
      },
      "source": [
        "Boolean Matrix Multiplication v.1 (OMP - Filter - Block)"
      ]
    },
    {
      "cell_type": "code",
      "metadata": {
        "id": "otjVmDbJGkSp"
      },
      "source": [
        "%env OMP_NUM_THREADS = 2"
      ],
      "execution_count": null,
      "outputs": []
    },
    {
      "cell_type": "code",
      "metadata": {
        "id": "3fF1AVx0GyXG"
      },
      "source": [
        "!g++ -fopenmp -O3 omp_BMM_v1.cpp -o omp1\n",
        "!./omp1"
      ],
      "execution_count": null,
      "outputs": []
    },
    {
      "cell_type": "markdown",
      "metadata": {
        "id": "FDy5F1Q2GklW"
      },
      "source": [
        "### **Compile / Run: MPI - C++**"
      ]
    },
    {
      "cell_type": "markdown",
      "metadata": {
        "id": "Rjzu5TW1Pgs4"
      },
      "source": [
        "Boolean Matrix Multiplication v.1 (MPI - Filter - Block)"
      ]
    },
    {
      "cell_type": "code",
      "metadata": {
        "id": "reUNu6zIGnZ2",
        "colab": {
          "base_uri": "https://localhost:8080/"
        },
        "outputId": "ea361e87-d25e-41a7-f671-ecaad3cc3767"
      },
      "source": [
        "%%shell\n",
        "\n",
        "mpicxx mpi_BMM_v1.cpp -o mpi1"
      ],
      "execution_count": null,
      "outputs": [
        {
          "output_type": "execute_result",
          "data": {
            "text/plain": [
              ""
            ]
          },
          "metadata": {},
          "execution_count": 21
        }
      ]
    },
    {
      "cell_type": "code",
      "metadata": {
        "id": "LzB8cm7eHAQB"
      },
      "source": [
        "!mpirun --allow-run-as-root -np 2 ./mpi1"
      ],
      "execution_count": null,
      "outputs": []
    },
    {
      "cell_type": "markdown",
      "metadata": {
        "id": "ftSfSeA5Gqdu"
      },
      "source": [
        "### **Compile / Run: MPI - OMP - C++**"
      ]
    },
    {
      "cell_type": "markdown",
      "metadata": {
        "id": "nLOIKlMNQASm"
      },
      "source": [
        "Boolean Matrix Multiplication v.1 (MPI - OMP - Filter - Block)"
      ]
    },
    {
      "cell_type": "code",
      "metadata": {
        "id": "7vu4N3kmGqsU"
      },
      "source": [
        "%env OMP_NUM_THREADS = 1"
      ],
      "execution_count": null,
      "outputs": []
    },
    {
      "cell_type": "code",
      "metadata": {
        "id": "PWwtrEtLHH_0"
      },
      "source": [
        "%%shell\n",
        "mpicxx -fopenmp -O3 mpi_omp_bBMM_v1.cpp -o ompmpi"
      ],
      "execution_count": null,
      "outputs": []
    },
    {
      "cell_type": "code",
      "metadata": {
        "id": "vOI_OnyxHHw2"
      },
      "source": [
        "!mpirun --allow-run-as-root -np 2 ./ompmpi"
      ],
      "execution_count": null,
      "outputs": []
    }
  ]
}